{
 "cells": [
  {
   "cell_type": "code",
   "execution_count": 58,
   "metadata": {},
   "outputs": [],
   "source": [
    "A = 'aaaaa'\n",
    "B = 'azzzz'\n",
    "\n",
    "# if A < B, then return -1\n",
    "# else if A > B, then return 1\n",
    "# else if A==B return 0\n",
    "\n",
    "\n",
    "def comp(A,B):\n",
    "    for i in A:\n",
    "        k = 0\n",
    "        l = 0\n",
    "        for j in B:\n",
    "            l = l + 1\n",
    "            if A[k] < B[l-1]:\n",
    "                k = k + 1\n",
    "                print('string', A[k],' is ',' less than  string L: ', A[l])\n",
    "                #l = l + 1\n",
    "                continue\n",
    "                #return -1\n",
    "            elif A[k] > B[l-1]:\n",
    "                k = k + 1\n",
    "                print('string', A[k],' is ',' larger than  string L: ', A[l])\n",
    "                continue\n",
    "                #l = l + 1\n",
    "                return 1\n",
    "            elif A[k] == B[l-1]:\n",
    "                k = k+1\n",
    "                print('string', A[k],' is ',' equal to  string L: ', A[l])\n",
    "                continue\n",
    "            #l = l + 1\n",
    "            #return 0\n"
   ]
  },
  {
   "cell_type": "code",
   "execution_count": 59,
   "metadata": {},
   "outputs": [
    {
     "name": "stdout",
     "output_type": "stream",
     "text": [
      "K is  1  L is  1\n",
      "K is  2  L is  2\n",
      "K is  3  L is  3\n",
      "K is  4  L is  4\n",
      "K is  5  L is  5\n",
      "K is  1  L is  1\n",
      "K is  2  L is  2\n",
      "K is  3  L is  3\n",
      "K is  4  L is  4\n",
      "K is  5  L is  5\n",
      "K is  1  L is  1\n",
      "K is  2  L is  2\n",
      "K is  3  L is  3\n",
      "K is  4  L is  4\n",
      "K is  5  L is  5\n",
      "K is  1  L is  1\n",
      "K is  2  L is  2\n",
      "K is  3  L is  3\n",
      "K is  4  L is  4\n",
      "K is  5  L is  5\n",
      "K is  1  L is  1\n",
      "K is  2  L is  2\n",
      "K is  3  L is  3\n",
      "K is  4  L is  4\n",
      "K is  5  L is  5\n"
     ]
    }
   ],
   "source": [
    "comp(A,B)"
   ]
  },
  {
   "cell_type": "code",
   "execution_count": 16,
   "metadata": {},
   "outputs": [
    {
     "data": {
      "text/plain": [
       "False"
      ]
     },
     "execution_count": 16,
     "metadata": {},
     "output_type": "execute_result"
    }
   ],
   "source": [
    "A[1]==B[1]"
   ]
  },
  {
   "cell_type": "code",
   "execution_count": 22,
   "metadata": {},
   "outputs": [
    {
     "ename": "TypeError",
     "evalue": "string indices must be integers",
     "output_type": "error",
     "traceback": [
      "\u001b[0;31m---------------------------------------------------------------------------\u001b[0m",
      "\u001b[0;31mTypeError\u001b[0m                                 Traceback (most recent call last)",
      "\u001b[0;32m<ipython-input-22-1ef734122be9>\u001b[0m in \u001b[0;36m<module>\u001b[0;34m\u001b[0m\n\u001b[0;32m----> 1\u001b[0;31m \u001b[0mcomp\u001b[0m\u001b[0;34m(\u001b[0m\u001b[0;34m'xx'\u001b[0m\u001b[0;34m,\u001b[0m\u001b[0;34m'xy'\u001b[0m\u001b[0;34m)\u001b[0m\u001b[0;34m\u001b[0m\u001b[0;34m\u001b[0m\u001b[0m\n\u001b[0m",
      "\u001b[0;32m<ipython-input-20-a8cc7ce2abdf>\u001b[0m in \u001b[0;36mcomp\u001b[0;34m(A, B)\u001b[0m\n\u001b[1;32m     10\u001b[0m     \u001b[0;32mfor\u001b[0m \u001b[0mi\u001b[0m \u001b[0;32min\u001b[0m \u001b[0mA\u001b[0m\u001b[0;34m:\u001b[0m\u001b[0;34m\u001b[0m\u001b[0;34m\u001b[0m\u001b[0m\n\u001b[1;32m     11\u001b[0m         \u001b[0;32mfor\u001b[0m \u001b[0mj\u001b[0m \u001b[0;32min\u001b[0m \u001b[0mB\u001b[0m\u001b[0;34m:\u001b[0m\u001b[0;34m\u001b[0m\u001b[0;34m\u001b[0m\u001b[0m\n\u001b[0;32m---> 12\u001b[0;31m             \u001b[0;32mif\u001b[0m \u001b[0mA\u001b[0m\u001b[0;34m[\u001b[0m\u001b[0mi\u001b[0m\u001b[0;34m]\u001b[0m \u001b[0;34m<\u001b[0m \u001b[0mB\u001b[0m\u001b[0;34m[\u001b[0m\u001b[0mj\u001b[0m\u001b[0;34m]\u001b[0m\u001b[0;34m:\u001b[0m\u001b[0;34m\u001b[0m\u001b[0;34m\u001b[0m\u001b[0m\n\u001b[0m\u001b[1;32m     13\u001b[0m                 \u001b[0;32mbreak\u001b[0m\u001b[0;34m\u001b[0m\u001b[0;34m\u001b[0m\u001b[0m\n\u001b[1;32m     14\u001b[0m             \u001b[0;32melif\u001b[0m \u001b[0mA\u001b[0m\u001b[0;34m[\u001b[0m\u001b[0mi\u001b[0m\u001b[0;34m]\u001b[0m \u001b[0;34m>\u001b[0m \u001b[0mB\u001b[0m\u001b[0;34m[\u001b[0m\u001b[0mj\u001b[0m\u001b[0;34m]\u001b[0m\u001b[0;34m:\u001b[0m\u001b[0;34m\u001b[0m\u001b[0;34m\u001b[0m\u001b[0m\n",
      "\u001b[0;31mTypeError\u001b[0m: string indices must be integers"
     ]
    }
   ],
   "source": [
    "comp('xx','xy')"
   ]
  },
  {
   "cell_type": "code",
   "execution_count": null,
   "metadata": {},
   "outputs": [],
   "source": []
  }
 ],
 "metadata": {
  "kernelspec": {
   "display_name": "Python 3",
   "language": "python",
   "name": "python3"
  },
  "language_info": {
   "codemirror_mode": {
    "name": "ipython",
    "version": 3
   },
   "file_extension": ".py",
   "mimetype": "text/x-python",
   "name": "python",
   "nbconvert_exporter": "python",
   "pygments_lexer": "ipython3",
   "version": "3.7.3"
  }
 },
 "nbformat": 4,
 "nbformat_minor": 2
}
