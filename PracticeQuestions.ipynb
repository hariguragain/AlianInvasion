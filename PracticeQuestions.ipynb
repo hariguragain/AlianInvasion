{
 "cells": [
  {
   "cell_type": "code",
   "execution_count": 152,
   "metadata": {},
   "outputs": [],
   "source": [
    "X = 'Abcdef'\n",
    "Y = 'Adefgh'\n",
    "\n",
    "# if X < Y, then return -1\n",
    "# else if X > Y, then return 1\n",
    "# else if X==Y return 0\n",
    "\n",
    "\n",
    "def comp(X,Y):\n",
    "    k = 0\n",
    "    for i in X:        \n",
    "        l = 0\n",
    "        for j in Y:          \n",
    "            if X[k] < Y[l]:\n",
    "                print('Value of k and L value are ',(k,l),'string', X[k],' is ',' less than  string : ', Y[l])\n",
    "                l = l + 1\n",
    "                continue\n",
    "                #return -1\n",
    "            elif X[k] > Y[l]:\n",
    "                print('Value of k and L value are ',(k,l),'string', X[k],' is ',' larger than  string : ', Y[l])\n",
    "                l = l + 1\n",
    "                continue                \n",
    "                #return 1\n",
    "            elif X[k] == Y[l]:\n",
    "                print('Value of k and L value are ',(k,l),'string', X[k],' is ',' equal to  string : ', Y[l])\n",
    "                l = l + 1\n",
    "                continue            \n",
    "        k = k + 1  \n",
    "            #return 0\n"
   ]
  },
  {
   "cell_type": "code",
   "execution_count": 153,
   "metadata": {},
   "outputs": [
    {
     "name": "stdout",
     "output_type": "stream",
     "text": [
      "Value of k and L value are  (0, 0) string a  is   equal to  string :  a\n",
      "Value of k and L value are  (0, 1) string a  is   less than  string :  z\n",
      "Value of k and L value are  (0, 2) string a  is   less than  string :  z\n",
      "Value of k and L value are  (0, 3) string a  is   less than  string :  z\n",
      "Value of k and L value are  (0, 4) string a  is   less than  string :  z\n",
      "Value of k and L value are  (1, 0) string a  is   equal to  string :  a\n",
      "Value of k and L value are  (1, 1) string a  is   less than  string :  z\n",
      "Value of k and L value are  (1, 2) string a  is   less than  string :  z\n",
      "Value of k and L value are  (1, 3) string a  is   less than  string :  z\n",
      "Value of k and L value are  (1, 4) string a  is   less than  string :  z\n",
      "Value of k and L value are  (2, 0) string a  is   equal to  string :  a\n",
      "Value of k and L value are  (2, 1) string a  is   less than  string :  z\n",
      "Value of k and L value are  (2, 2) string a  is   less than  string :  z\n",
      "Value of k and L value are  (2, 3) string a  is   less than  string :  z\n",
      "Value of k and L value are  (2, 4) string a  is   less than  string :  z\n",
      "Value of k and L value are  (3, 0) string a  is   equal to  string :  a\n",
      "Value of k and L value are  (3, 1) string a  is   less than  string :  z\n",
      "Value of k and L value are  (3, 2) string a  is   less than  string :  z\n",
      "Value of k and L value are  (3, 3) string a  is   less than  string :  z\n",
      "Value of k and L value are  (3, 4) string a  is   less than  string :  z\n",
      "Value of k and L value are  (4, 0) string a  is   equal to  string :  a\n",
      "Value of k and L value are  (4, 1) string a  is   less than  string :  z\n",
      "Value of k and L value are  (4, 2) string a  is   less than  string :  z\n",
      "Value of k and L value are  (4, 3) string a  is   less than  string :  z\n",
      "Value of k and L value are  (4, 4) string a  is   less than  string :  z\n"
     ]
    }
   ],
   "source": [
    "comp(A,B)"
   ]
  },
  {
   "cell_type": "code",
   "execution_count": 16,
   "metadata": {},
   "outputs": [
    {
     "data": {
      "text/plain": [
       "False"
      ]
     },
     "execution_count": 16,
     "metadata": {},
     "output_type": "execute_result"
    }
   ],
   "source": [
    "A[1]==B[1]"
   ]
  },
  {
   "cell_type": "code",
   "execution_count": 154,
   "metadata": {},
   "outputs": [
    {
     "name": "stdout",
     "output_type": "stream",
     "text": [
      "Value of k and L value are  (0, 0) string x  is   equal to  string :  x\n",
      "Value of k and L value are  (0, 1) string x  is   less than  string :  y\n",
      "Value of k and L value are  (1, 0) string x  is   equal to  string :  x\n",
      "Value of k and L value are  (1, 1) string x  is   less than  string :  y\n"
     ]
    }
   ],
   "source": [
    "comp('xx','xy')"
   ]
  },
  {
   "cell_type": "code",
   "execution_count": null,
   "metadata": {},
   "outputs": [],
   "source": []
  }
 ],
 "metadata": {
  "kernelspec": {
   "display_name": "Python 3",
   "language": "python",
   "name": "python3"
  },
  "language_info": {
   "codemirror_mode": {
    "name": "ipython",
    "version": 3
   },
   "file_extension": ".py",
   "mimetype": "text/x-python",
   "name": "python",
   "nbconvert_exporter": "python",
   "pygments_lexer": "ipython3",
   "version": "3.7.3"
  }
 },
 "nbformat": 4,
 "nbformat_minor": 2
}
